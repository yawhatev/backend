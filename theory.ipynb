{
 "cells": [
  {
   "cell_type": "markdown",
   "metadata": {},
   "source": [
    "# Index.js\n",
    "- routes: tyo route ma aayesi kun service tesle linu paryo tyo herinxa"
   ]
  },
  {
   "cell_type": "markdown",
   "metadata": {},
   "source": [
    "**middleware**\n",
    "- is a helper or gatekeeper that processes request before they reach the final destination(like a route)\n",
    "- can check or modify the request\n",
    "- can add extra funtionality(logging and authentication)\n",
    "- handle errors"
   ]
  },
  {
   "cell_type": "markdown",
   "metadata": {},
   "source": [
    "- app.use(express.json() or /api)\n",
    "- helps understand JSON data sent in request body\n",
    "- middleware says:\"for any request that starts with /api, use the router to handle it\"\n",
    "- app.use((error, req,res,next)=>{\n",
    "    console.log(\"error:\", error);\n",
    "}): called error handling middleware"
   ]
  },
  {
   "cell_type": "markdown",
   "metadata": {},
   "source": [
    "**router.js**\n",
    "- sets up a router(a way to organize routes)\n",
    "- defines routes like /auth, /student, /role and uses middleware to handle request\n",
    "**about the code**\n",
    "- router: a tool from the express librrary to create routes\n",
    "- authroute and others are separete routes files for different parts of the app(authentication, student, management)\n",
    "- authentication: a middleware to check if a user is logged in(authenticated) before allowing access to certain routes\n",
    "- "
   ]
  },
  {
   "cell_type": "markdown",
   "metadata": {},
   "source": [
    "**URL methods**\n",
    "- GET:(fetch user profiles)\n",
    "     - retrieve data from the server without affecting server state\n",
    "     - search querries\n",
    "     - fetching resources like images or JSON data in APIs\n",
    "- POST:(user registration)\n",
    "     - send data to the server to create a new resource\n",
    "     - submitting forms like registration, login\n",
    "- PUT:(update user profile)\n",
    "     - update an existing resource entirely on the server\n",
    "- PATCH:(change user passwords)\n",
    "     - partially update a resource(changing only a user's password)\n",
    "- DELETE:(delete user account)\n",
    "     - delete user accounts or remove records\n",
    "- HEAD:(check resource availability)\n",
    "     - similar to get, but only fetches headers not the body \n",
    "     - checking if a resource exists without downloading it\n",
    "- OPTIONS:(handles CORS request)\n",
    "     - describe communication options for a resource \n",
    "- CONNECT:(secure communication)\n",
    "     - establish a tunnel between the client and the server\n",
    "     - used by proxies to facilitate HTTPS connections \n",
    "- TRACE:(debugging request)\n",
    "     - echo back the received request\n",
    "     - debugging or testing purpose(rarely used)"
   ]
  },
  {
   "cell_type": "markdown",
   "metadata": {},
   "source": [
    "**server**\n",
    "- a computer or a system that provides service,resources or data to other devices(client) over a network\n",
    "- Real-Life Analogy:Imagine a restaurant.\n",
    "- The server is the waiter who listens to your request (order) and brings the right dish from the kitchen.\n",
    "- The client is you, making the request.\n",
    "- The kitchen is the database or storage where all the resources (data) are kept."
   ]
  },
  {
   "cell_type": "markdown",
   "metadata": {},
   "source": [
    "**database ORM(object-relational mapping)**\n",
    "- a tool that helps developers interact with a database using objects and methods instead of writing complex raw SQL queries\n",
    "- instead of writing SQL queires, we write simple js codes\n",
    "- can work with multiple database"
   ]
  },
  {
   "cell_type": "markdown",
   "metadata": {},
   "source": [
    "**.env**\n",
    "- file used to store environment variables for our application\n",
    "\n",
    "**hashing**\n",
    "- converting data into a fixed-length of characters\n",
    "- Input: \"mySecret123\"\n",
    "- Hash: 64f2f484e4da4c324db65cba320a7c11f31bcda53f278fc4c215c276d5b4e4d6\n",
    "- If a hacker gains access to the database, they only see the hash, not the original password.\n"
   ]
  },
  {
   "cell_type": "markdown",
   "metadata": {},
   "source": [
    "**how tokens work**\n",
    "- The client sends a request (usually a POST request) to the server with user credentials\n",
    "- The server verifies the credentials:\n",
    "     -Looks up the user in the database.\n",
    "     - Validates the password.\n",
    "     - If successful, it generates a token (like JWT).\n",
    "- token is generated\n",
    "- Server Sends the Token to the Client\n",
    "- The client stores the token in localStorage, sessionStorage, or cookies.\n",
    "- The client includes the token in the Authorization header for future requests, The server verifies this token to authenticate the client."
   ]
  },
  {
   "cell_type": "markdown",
   "metadata": {},
   "source": [
    "**cors**\n",
    "- If your frontend (e.g., https://example-frontend.com) needs to fetch data from your backend API (e.g., https://example-backend.com), CORS allows this by specifying which origins are permitted\n",
    "- controls which domain can access backend resources\n",
    "- prevents unauthorized request\n",
    "- restricts methods and header(get,posts,etc)\n",
    "- "
   ]
  },
  {
   "cell_type": "markdown",
   "metadata": {},
   "source": [
    "# project\n",
    "- node-modules: every frameworks or tools required info are stored\n",
    "- prisma: for easy database use\n",
    "     - schema files has the database contents \n",
    "     - migration keeps track of the history of database schema changes(called migrations ie adding, modifying tables,columns or relationships)\n",
    "- routes: consists of necessary route files\n",
    "- services: the actual codes about routes\n",
    "- .env: creates environment for req tools\n",
    "- .gitignore: ignore the changes in the git\n",
    "- index.js: main file(server page)\n",
    "- packages are created when we do npm init"
   ]
  },
  {
   "cell_type": "markdown",
   "metadata": {},
   "source": [
    "**steps**\n",
    "\n",
    "- created new folder\n",
    "- clone express api and sma-client\n",
    "- created sma backend folder(inside this we created index.js where we copied index.js of express-api )\n",
    "- npm init -> makes node module files\n",
    "- npm install express nodemon dotenv jsonwebtoken prisma\n",
    "- in sma-backend bhitra ko package.json ma scripts ma change done and type module vanera added\n",
    "- npm run dev done then server run bhako xa ki xna vanera postman bata check garim\n",
    "- installed DBeaver and postgresql \n",
    "- npx prisma init \n",
    "- sir ko express-api ko prisma bata schema.prisma ko code copied then pasted in our sma-backend ko prisma ko schema prisma ma copied \n",
    "- then Shell ma ma discord bata copied and serially pasted upto grant\n",
    "- npx prisma generate here it connected .env and DBeaver ko and DBeaver ma username haru made change schema ma avi vandai then .env ma change made DBeaver kai adhaar ma\n",
    "- npx prisma migrate dev now prisma ma bayeko code ne utaaa DBeaver ma auxa that columns harus id email vandai\n",
    "- now routes haru milaudai api hit garne and register garne  ko kura ma body ma yesari halne in raw option\n",
    "- {\n",
    "- \"email\":\"avisujakhu@gmail.com\",\n",
    "- \"name\": \"abiral\",\n",
    "- \"password\": \"lol\",\n",
    "- \"fullname\" :\" abiral sujakhu\",\n",
    "- \"gender\": \"male\"\n",
    "- }"
   ]
  },
  {
   "cell_type": "markdown",
   "metadata": {},
   "source": [
    "**ytb videos to see**\n",
    "- async and await funtions\n",
    "- url methods\n",
    "- prisma, express, dbeaver, postman, postgreSQL\n",
    "- framework, library, tool, orm "
   ]
  }
 ],
 "metadata": {
  "language_info": {
   "name": "python"
  }
 },
 "nbformat": 4,
 "nbformat_minor": 2
}
